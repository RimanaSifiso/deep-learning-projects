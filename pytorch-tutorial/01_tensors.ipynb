{
 "cells": [
  {
   "cell_type": "markdown",
   "id": "09885a4e",
   "metadata": {},
   "source": [
    "# Tensors\n",
    "\n",
    "Tutorial link: [PyTorch Docs](https://docs.pytorch.org/tutorials/beginner/basics/tensorqs_tutorial.html)\n",
    "\n",
    "----"
   ]
  },
  {
   "cell_type": "code",
   "execution_count": 1,
   "id": "13851c6f",
   "metadata": {},
   "outputs": [],
   "source": [
    "import torch\n",
    "import numpy as np"
   ]
  },
  {
   "cell_type": "markdown",
   "id": "9d370a46",
   "metadata": {},
   "source": [
    "## 1. Initializing a Tensor"
   ]
  },
  {
   "cell_type": "code",
   "execution_count": 2,
   "id": "5cb56e1d",
   "metadata": {},
   "outputs": [],
   "source": [
    "data = [[1,2], [3, 4]]\n",
    "x_data = torch.tensor(data) # tensor from regular Python List\n",
    "\n",
    "np_array = np.array(data)\n",
    "x_np = torch.from_numpy(np_array) # tensor ffrom numpy ndarray\n"
   ]
  },
  {
   "cell_type": "code",
   "execution_count": 5,
   "id": "d4811ad0",
   "metadata": {},
   "outputs": [
    {
     "data": {
      "text/plain": [
       "(torch.int64, torch.int64, dtype('int64'))"
      ]
     },
     "execution_count": 5,
     "metadata": {},
     "output_type": "execute_result"
    }
   ],
   "source": [
    "x_data.dtype, x_np.dtype, np_array.dtype"
   ]
  },
  {
   "cell_type": "code",
   "execution_count": 7,
   "id": "d6665678",
   "metadata": {},
   "outputs": [
    {
     "data": {
      "text/plain": [
       "(tensor([[1, 1],\n",
       "         [1, 1]]),\n",
       " torch.int64)"
      ]
     },
     "execution_count": 7,
     "metadata": {},
     "output_type": "execute_result"
    }
   ],
   "source": [
    "x_ones = torch.ones_like(x_data)\n",
    "x_ones, x_ones.dtype"
   ]
  },
  {
   "cell_type": "code",
   "execution_count": 8,
   "id": "21e0af34",
   "metadata": {},
   "outputs": [
    {
     "data": {
      "text/plain": [
       "(tensor([[0.1342, 0.7358],\n",
       "         [0.1265, 0.7839]]),\n",
       " torch.float32)"
      ]
     },
     "execution_count": 8,
     "metadata": {},
     "output_type": "execute_result"
    }
   ],
   "source": [
    "x_rand = torch.rand_like(x_data, dtype=torch.float)\n",
    "x_rand, x_rand.dtype"
   ]
  },
  {
   "cell_type": "code",
   "execution_count": 9,
   "id": "e074f874",
   "metadata": {},
   "outputs": [
    {
     "data": {
      "text/plain": [
       "(tensor([[0.4138, 0.8138, 0.8231],\n",
       "         [0.3927, 0.6102, 0.2390]]),\n",
       " tensor([[1., 1., 1.],\n",
       "         [1., 1., 1.]]),\n",
       " tensor([[0., 0., 0.],\n",
       "         [0., 0., 0.]]))"
      ]
     },
     "execution_count": 9,
     "metadata": {},
     "output_type": "execute_result"
    }
   ],
   "source": [
    "shape = (2,3,)\n",
    "rand_tensor = torch.rand(shape)\n",
    "ones_tensor = torch.ones(shape)\n",
    "zeros_tensor = torch.zeros(shape)\n",
    "\n",
    "rand_tensor, ones_tensor, zeros_tensor"
   ]
  },
  {
   "cell_type": "markdown",
   "id": "6cb89f80",
   "metadata": {},
   "source": [
    "## 2. Attributes of a Tensor"
   ]
  },
  {
   "cell_type": "code",
   "execution_count": 11,
   "id": "a372f97e",
   "metadata": {},
   "outputs": [
    {
     "data": {
      "text/plain": [
       "tensor([[0.8564, 0.6403, 0.2223],\n",
       "        [0.8531, 0.4990, 0.4861]])"
      ]
     },
     "execution_count": 11,
     "metadata": {},
     "output_type": "execute_result"
    }
   ],
   "source": [
    "tensor = torch.rand(shape)\n",
    "tensor"
   ]
  },
  {
   "cell_type": "code",
   "execution_count": 12,
   "id": "ddceaeeb",
   "metadata": {},
   "outputs": [
    {
     "data": {
      "text/plain": [
       "(torch.Size([2, 3]), torch.float32, device(type='cpu'))"
      ]
     },
     "execution_count": 12,
     "metadata": {},
     "output_type": "execute_result"
    }
   ],
   "source": [
    "tensor.shape, tensor.dtype, tensor.device"
   ]
  },
  {
   "cell_type": "markdown",
   "id": "58228299",
   "metadata": {},
   "source": [
    "## 3. Operations on Tensors"
   ]
  },
  {
   "cell_type": "code",
   "execution_count": 13,
   "id": "a7423dae",
   "metadata": {},
   "outputs": [
    {
     "name": "stdout",
     "output_type": "stream",
     "text": [
      "No accelator available, tensor will remain on the CPU\n"
     ]
    }
   ],
   "source": [
    "if torch.accelerator.is_available():\n",
    "    tensor = tensor.to(torch.accelerator.current_accelerator())\n",
    "    print(\"Tensor moved to non-CPU architecture!\")\n",
    "else:\n",
    "    print(\"No accelator available, tensor will remain on the CPU\")"
   ]
  },
  {
   "cell_type": "code",
   "execution_count": 15,
   "id": "63545212",
   "metadata": {},
   "outputs": [
    {
     "name": "stdout",
     "output_type": "stream",
     "text": [
      "First row: tensor([0.4627, 0.9993, 0.2908, 0.5975])\n",
      "First column: tensor([0.4627, 0.3039, 0.0042, 0.3406])\n",
      "Last column: tensor([0.5975, 0.1933, 0.9043, 0.4034])\n",
      "tensor([[0.4627, 0.0000, 0.2908, 0.5975],\n",
      "        [0.3039, 0.0000, 0.8740, 0.1933],\n",
      "        [0.0042, 0.0000, 0.4901, 0.9043],\n",
      "        [0.3406, 0.0000, 0.8763, 0.4034]])\n"
     ]
    }
   ],
   "source": [
    "tensor = torch.rand(4, 4)\n",
    "print(f\"First row: {tensor[0]}\")\n",
    "print(f\"First column: {tensor[:, 0]}\")\n",
    "print(f\"Last column: {tensor[..., -1]}\")\n",
    "tensor[:,1] = 0\n",
    "print(tensor)"
   ]
  },
  {
   "cell_type": "code",
   "execution_count": 16,
   "id": "97c3ee35",
   "metadata": {},
   "outputs": [
    {
     "data": {
      "text/plain": [
       "tensor([0.5975, 0.1933, 0.9043, 0.4034])"
      ]
     },
     "execution_count": 16,
     "metadata": {},
     "output_type": "execute_result"
    }
   ],
   "source": [
    "tensor[:,-1]"
   ]
  },
  {
   "cell_type": "code",
   "execution_count": 18,
   "id": "d6e1cc82",
   "metadata": {},
   "outputs": [
    {
     "data": {
      "text/plain": [
       "tensor([[0.4627, 0.0000, 0.2908, 0.5975, 0.4627, 0.0000, 0.2908, 0.5975],\n",
       "        [0.3039, 0.0000, 0.8740, 0.1933, 0.3039, 0.0000, 0.8740, 0.1933],\n",
       "        [0.0042, 0.0000, 0.4901, 0.9043, 0.0042, 0.0000, 0.4901, 0.9043],\n",
       "        [0.3406, 0.0000, 0.8763, 0.4034, 0.3406, 0.0000, 0.8763, 0.4034]])"
      ]
     },
     "execution_count": 18,
     "metadata": {},
     "output_type": "execute_result"
    }
   ],
   "source": [
    "torch.cat([tensor, tensor], dim=1)"
   ]
  },
  {
   "cell_type": "code",
   "execution_count": 19,
   "id": "a3cb26a3",
   "metadata": {},
   "outputs": [
    {
     "data": {
      "text/plain": [
       "(tensor(5.7411), 5.741137504577637)"
      ]
     },
     "execution_count": 19,
     "metadata": {},
     "output_type": "execute_result"
    }
   ],
   "source": [
    "agg = tensor.sum()\n",
    "agg_item = agg.item()\n",
    "agg, agg_item"
   ]
  },
  {
   "cell_type": "markdown",
   "id": "42b0b84d",
   "metadata": {},
   "source": [
    "## 4. Bridge with NumPy"
   ]
  },
  {
   "cell_type": "code",
   "execution_count": 20,
   "id": "6bb2752a",
   "metadata": {},
   "outputs": [
    {
     "data": {
      "text/plain": [
       "(tensor([1., 1., 1., 1., 1.]), array([1., 1., 1., 1., 1.], dtype=float32))"
      ]
     },
     "execution_count": 20,
     "metadata": {},
     "output_type": "execute_result"
    }
   ],
   "source": [
    "t = torch.ones(5)\n",
    "n = t.numpy()\n",
    "t, n"
   ]
  },
  {
   "cell_type": "code",
   "execution_count": 21,
   "id": "3462b0df",
   "metadata": {},
   "outputs": [
    {
     "data": {
      "text/plain": [
       "(tensor([2., 2., 2., 2., 2.]), array([2., 2., 2., 2., 2.], dtype=float32))"
      ]
     },
     "execution_count": 21,
     "metadata": {},
     "output_type": "execute_result"
    }
   ],
   "source": [
    "t.add_(1) # the numpy array is also changed\n",
    "t, n"
   ]
  },
  {
   "cell_type": "code",
   "execution_count": 22,
   "id": "8c3e63b4",
   "metadata": {},
   "outputs": [
    {
     "data": {
      "text/plain": [
       "(tensor([12., 12., 12., 12., 12.]),\n",
       " array([12., 12., 12., 12., 12.], dtype=float32))"
      ]
     },
     "execution_count": 22,
     "metadata": {},
     "output_type": "execute_result"
    }
   ],
   "source": [
    "np.add(n, 10, out=n)\n",
    "t, n"
   ]
  },
  {
   "cell_type": "code",
   "execution_count": null,
   "id": "76ef44ce",
   "metadata": {},
   "outputs": [],
   "source": []
  }
 ],
 "metadata": {
  "kernelspec": {
   "display_name": "deep-learning-projects",
   "language": "python",
   "name": "python3"
  },
  "language_info": {
   "codemirror_mode": {
    "name": "ipython",
    "version": 3
   },
   "file_extension": ".py",
   "mimetype": "text/x-python",
   "name": "python",
   "nbconvert_exporter": "python",
   "pygments_lexer": "ipython3",
   "version": "3.12.0"
  }
 },
 "nbformat": 4,
 "nbformat_minor": 5
}
